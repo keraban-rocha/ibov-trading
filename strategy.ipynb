{
 "cells": [
  {
   "cell_type": "code",
   "execution_count": 9,
   "metadata": {},
   "outputs": [],
   "source": [
    "# Import packages\n",
    "import pandas as pd\n",
    "import numpy as np\n",
    "import itertools"
   ]
  },
  {
   "cell_type": "code",
   "execution_count": 10,
   "metadata": {},
   "outputs": [
    {
     "data": {
      "text/html": [
       "<div>\n",
       "<style scoped>\n",
       "    .dataframe tbody tr th:only-of-type {\n",
       "        vertical-align: middle;\n",
       "    }\n",
       "\n",
       "    .dataframe tbody tr th {\n",
       "        vertical-align: top;\n",
       "    }\n",
       "\n",
       "    .dataframe thead th {\n",
       "        text-align: right;\n",
       "    }\n",
       "</style>\n",
       "<table border=\"1\" class=\"dataframe\">\n",
       "  <thead>\n",
       "    <tr style=\"text-align: right;\">\n",
       "      <th></th>\n",
       "      <th>Date</th>\n",
       "      <th>Open</th>\n",
       "      <th>High</th>\n",
       "      <th>Low</th>\n",
       "      <th>Close</th>\n",
       "      <th>Return</th>\n",
       "    </tr>\n",
       "  </thead>\n",
       "  <tbody>\n",
       "    <tr>\n",
       "      <th>0</th>\n",
       "      <td>2002-07-03</td>\n",
       "      <td>10854.0</td>\n",
       "      <td>10868.0</td>\n",
       "      <td>10520.0</td>\n",
       "      <td>10635.0</td>\n",
       "      <td>NaN</td>\n",
       "    </tr>\n",
       "    <tr>\n",
       "      <th>1</th>\n",
       "      <td>2002-07-04</td>\n",
       "      <td>10661.0</td>\n",
       "      <td>10721.0</td>\n",
       "      <td>10593.0</td>\n",
       "      <td>10655.0</td>\n",
       "      <td>0.001881</td>\n",
       "    </tr>\n",
       "  </tbody>\n",
       "</table>\n",
       "</div>"
      ],
      "text/plain": [
       "        Date     Open     High      Low    Close    Return\n",
       "0 2002-07-03  10854.0  10868.0  10520.0  10635.0       NaN\n",
       "1 2002-07-04  10661.0  10721.0  10593.0  10655.0  0.001881"
      ]
     },
     "execution_count": 10,
     "metadata": {},
     "output_type": "execute_result"
    }
   ],
   "source": [
    "# Load Ibovespa daily data and work with data\n",
    "df_ibovespa = pd.read_excel('Ibovespa - daily data.xlsx')\n",
    "df_ibovespa = df_ibovespa.rename(columns={'Data':'Date','Abertura':'Open','Máxima':'High','Mínima':'Low','Fechamento':'Close'})\n",
    "df_ibovespa = df_ibovespa.drop(columns='ULT')\n",
    "df_ibovespa = df_ibovespa.sort_values(by='Date').reset_index()\n",
    "df_ibovespa = df_ibovespa.drop(columns='index')\n",
    "\n",
    "# Calculate returns\n",
    "df_ibovespa['Return'] = df_ibovespa['Close'] / df_ibovespa['Close'].shift(1) - 1\n",
    "df_ibovespa.head(2)"
   ]
  },
  {
   "attachments": {},
   "cell_type": "markdown",
   "metadata": {},
   "source": [
    "## Functions"
   ]
  },
  {
   "cell_type": "code",
   "execution_count": 11,
   "metadata": {},
   "outputs": [],
   "source": [
    "# Function that receives the dataframe and the SMA period as an input and outputs simple moving averages (SMA) and buy/sell signals\n",
    "\n",
    "def sma_signals(df,period):\n",
    "    # Calculate simple moving averages (SMA)\n",
    "    df['SMA'] = df['Close'].rolling(period).mean()\n",
    "    df['SMA'] = df['SMA'].shift(1)\n",
    "    df['SMA'] = df['SMA'].round(0)\n",
    "\n",
    "    # Calculate signal\n",
    "    df['Signal'] = np.where( (df['Open'] < df['SMA']) & (df['Close'] > df['SMA']),\n",
    "                                    1,\n",
    "                                    np.where( (df['Open'] > df['SMA']) & (df['Close'] < df['SMA']),-1,0)\n",
    "                                    )\n",
    "    df['Signal'] = df['Signal'].shift(1)\n",
    "    df.loc[df_ibovespa['Signal'].isna(),'Signal'] = 0\n",
    "    df.loc[df['Signal'].isna()] = 0\n",
    "\n",
    "    return df"
   ]
  },
  {
   "cell_type": "code",
   "execution_count": 12,
   "metadata": {},
   "outputs": [],
   "source": [
    "# Function that calculates the returns given a holding period\n",
    "def holding_period_returns(df,holding_period):\n",
    "    \n",
    "    # Remove overlapping signals within holding period\n",
    "    for i in range(0,len(df)):\n",
    "        signal = df.iloc[i,7]\n",
    "        if signal != 0:\n",
    "            if i + holding_period + 2 >= len(df):\n",
    "                break\n",
    "            else:\n",
    "                df.iloc[i+1:i + holding_period,7] = 0\n",
    "    \n",
    "    # Calculate trade returns\n",
    "    df['Exit Date'] = np.where(df['Signal']!=0,df['Date'].shift(-holding_period),np.nan)\n",
    "    df['Exit Price'] = np.where(df['Signal']!=0,df['Close'].shift(-holding_period),np.nan)\n",
    "    df['Trade'] = np.where(df['Signal'] == -1,\n",
    "                                    df['Open'] / df['Exit Price'] - 1,\n",
    "                                    np.where(df['Signal'] == 1,df['Exit Price'] / df['Open'] - 1,0)\n",
    "                                    )\n",
    "    return df"
   ]
  },
  {
   "cell_type": "code",
   "execution_count": 13,
   "metadata": {},
   "outputs": [
    {
     "data": {
      "text/html": [
       "<div>\n",
       "<style scoped>\n",
       "    .dataframe tbody tr th:only-of-type {\n",
       "        vertical-align: middle;\n",
       "    }\n",
       "\n",
       "    .dataframe tbody tr th {\n",
       "        vertical-align: top;\n",
       "    }\n",
       "\n",
       "    .dataframe thead th {\n",
       "        text-align: right;\n",
       "    }\n",
       "</style>\n",
       "<table border=\"1\" class=\"dataframe\">\n",
       "  <thead>\n",
       "    <tr style=\"text-align: right;\">\n",
       "      <th></th>\n",
       "      <th>Date</th>\n",
       "      <th>Open</th>\n",
       "      <th>High</th>\n",
       "      <th>Low</th>\n",
       "      <th>Close</th>\n",
       "      <th>Return</th>\n",
       "      <th>SMA</th>\n",
       "      <th>Signal</th>\n",
       "      <th>Exit Date</th>\n",
       "      <th>Exit Price</th>\n",
       "      <th>Trade</th>\n",
       "    </tr>\n",
       "  </thead>\n",
       "  <tbody>\n",
       "    <tr>\n",
       "      <th>0</th>\n",
       "      <td>2002-07-03 00:00:00</td>\n",
       "      <td>10854.0</td>\n",
       "      <td>10868.0</td>\n",
       "      <td>10520.0</td>\n",
       "      <td>10635.0</td>\n",
       "      <td>NaN</td>\n",
       "      <td>NaN</td>\n",
       "      <td>0.0</td>\n",
       "      <td>NaT</td>\n",
       "      <td>NaN</td>\n",
       "      <td>0.0</td>\n",
       "    </tr>\n",
       "    <tr>\n",
       "      <th>1</th>\n",
       "      <td>2002-07-04 00:00:00</td>\n",
       "      <td>10661.0</td>\n",
       "      <td>10721.0</td>\n",
       "      <td>10593.0</td>\n",
       "      <td>10655.0</td>\n",
       "      <td>0.001881</td>\n",
       "      <td>NaN</td>\n",
       "      <td>0.0</td>\n",
       "      <td>NaT</td>\n",
       "      <td>NaN</td>\n",
       "      <td>0.0</td>\n",
       "    </tr>\n",
       "  </tbody>\n",
       "</table>\n",
       "</div>"
      ],
      "text/plain": [
       "                  Date     Open     High      Low    Close    Return  SMA  \\\n",
       "0  2002-07-03 00:00:00  10854.0  10868.0  10520.0  10635.0       NaN  NaN   \n",
       "1  2002-07-04 00:00:00  10661.0  10721.0  10593.0  10655.0  0.001881  NaN   \n",
       "\n",
       "   Signal Exit Date  Exit Price  Trade  \n",
       "0     0.0       NaT         NaN    0.0  \n",
       "1     0.0       NaT         NaN    0.0  "
      ]
     },
     "execution_count": 13,
     "metadata": {},
     "output_type": "execute_result"
    }
   ],
   "source": [
    "# Function usage example\n",
    "df = holding_period_returns(sma_signals(df_ibovespa,200),51)\n",
    "df.head(2)"
   ]
  },
  {
   "cell_type": "code",
   "execution_count": 14,
   "metadata": {},
   "outputs": [],
   "source": [
    "# Run strategy for several combinations of SMA and holding periods\n",
    "smas = range(5,252,5)\n",
    "holding_periods = range(5,252,5)\n",
    "df_results = pd.DataFrame(columns=['Date','Signal','Trade','SMA','HP'])\n",
    "combinations = itertools.product(smas,holding_periods)\n",
    "for sma, hp in combinations:\n",
    "        df = holding_period_returns(sma_signals(df_ibovespa,sma),hp)\n",
    "        df['SMA_periods'] = sma\n",
    "        df['HP'] = hp\n",
    "        df_results = pd.concat([df,df_results])\n",
    "        del(df)"
   ]
  },
  {
   "cell_type": "code",
   "execution_count": 15,
   "metadata": {},
   "outputs": [],
   "source": [
    "# Save results\n",
    "df_results['Signal'] = [np.nan if x == 0 else x for x in df_results['Signal']]\n",
    "df_results.to_csv('results.csv')"
   ]
  }
 ],
 "metadata": {
  "kernelspec": {
   "display_name": "Python 3",
   "language": "python",
   "name": "python3"
  },
  "language_info": {
   "codemirror_mode": {
    "name": "ipython",
    "version": 3
   },
   "file_extension": ".py",
   "mimetype": "text/x-python",
   "name": "python",
   "nbconvert_exporter": "python",
   "pygments_lexer": "ipython3",
   "version": "3.11.1"
  },
  "orig_nbformat": 4,
  "vscode": {
   "interpreter": {
    "hash": "ed46452c4668efe6ceeb1f02eb9955893d002518a64ea1eadbe87f41aafe61f3"
   }
  }
 },
 "nbformat": 4,
 "nbformat_minor": 2
}
